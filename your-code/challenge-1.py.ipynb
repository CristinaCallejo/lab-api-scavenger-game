{
 "cells": [
  {
   "cell_type": "code",
   "execution_count": 10,
   "metadata": {},
   "outputs": [],
   "source": [
    "import json\n",
    "import os\n",
    "import requests"
   ]
  },
  {
   "cell_type": "code",
   "execution_count": 11,
   "metadata": {},
   "outputs": [],
   "source": [
    "token = open(\"../focus.txt\").readlines()[0].rstrip()"
   ]
  },
  {
   "cell_type": "markdown",
   "metadata": {},
   "source": [
    "## Challenge 1: Fork Languages\n",
    "\n",
    "You will find out how many programming languages are used among all the forks created from the main lab repo of your bootcamp. Assuming the main lab repo is ironhack-datalabs/datamad1020-rev, you will:\n",
    "\n",
    "1. Obtain the full list of forks created from the main lab repo via Github API.\n",
    "\n",
    "2. Loop the JSON response to find out the language attribute of each fork. Use an array to store the language attributes of each fork.\n",
    "\n",
    "Hint: Each language should appear only once in your array.\n",
    "\n",
    "3. Print the language array. It should be something like:\n",
    "\n",
    "[\"Python\", \"Jupyter Notebook\", \"HTML\"]\n"
   ]
  },
  {
   "cell_type": "markdown",
   "metadata": {},
   "source": [
    "**HINT:**: Create a list with every **language_url** you find in every fork "
   ]
  },
  {
   "cell_type": "markdown",
   "metadata": {},
   "source": [
    "⚠️ **Remember to limit your output before submission**."
   ]
  },
  {
   "cell_type": "code",
   "execution_count": 12,
   "metadata": {},
   "outputs": [],
   "source": [
    "# Example: print(variable[:10]) "
   ]
  },
  {
   "cell_type": "markdown",
   "metadata": {},
   "source": [
    "url_forks = \"https://api.github.com/\""
   ]
  },
  {
   "cell_type": "markdown",
   "metadata": {},
   "source": [
    "url_especifica/endpoint = \"repos/ironhack-datalabs/datamad1020-rev\""
   ]
  },
  {
   "cell_type": "markdown",
   "metadata": {},
   "source": [
    "res = requests.get(url_completa, headers = params)\n",
    "res # res.status_code (Es lo mismo)"
   ]
  },
  {
   "cell_type": "markdown",
   "metadata": {},
   "source": [
    "info[2][\"forks\"]"
   ]
  },
  {
   "cell_type": "markdown",
   "metadata": {},
   "source": [
    "### 'forks_url': 'https://api.github.com/repos/VictorRodriguezIronhack/datamad1020-rev/forks',\n",
    "### languages_url': 'https://api.github.com/repos/VictorRodriguezIronhack/datamad1020-rev/languages'"
   ]
  },
  {
   "cell_type": "code",
   "execution_count": 13,
   "metadata": {},
   "outputs": [],
   "source": [
    "url = \"https://api.github.com/repos/ironhack-datalabs/datamad1020-rev/forks?language:x\""
   ]
  },
  {
   "cell_type": "code",
   "execution_count": 14,
   "metadata": {},
   "outputs": [],
   "source": [
    "params = {\"Authorization\":  f'token {token}'\n",
    "    \n",
    "}"
   ]
  },
  {
   "cell_type": "code",
   "execution_count": 15,
   "metadata": {},
   "outputs": [
    {
     "data": {
      "text/plain": [
       "<Response [200]>"
      ]
     },
     "execution_count": 15,
     "metadata": {},
     "output_type": "execute_result"
    }
   ],
   "source": [
    "response = requests.get(url)\n",
    "response"
   ]
  },
  {
   "cell_type": "code",
   "execution_count": 27,
   "metadata": {},
   "outputs": [],
   "source": [
    "res= response.json()"
   ]
  },
  {
   "cell_type": "code",
   "execution_count": 29,
   "metadata": {},
   "outputs": [
    {
     "data": {
      "text/plain": [
       "{'id': 333169333,\n",
       " 'node_id': 'MDEwOlJlcG9zaXRvcnkzMzMxNjkzMzM=',\n",
       " 'name': 'datamad1020-rev',\n",
       " 'full_name': 'PaolaKarina/datamad1020-rev',\n",
       " 'private': False,\n",
       " 'owner': {'login': 'PaolaKarina',\n",
       "  'id': 72129520,\n",
       "  'node_id': 'MDQ6VXNlcjcyMTI5NTIw',\n",
       "  'avatar_url': 'https://avatars.githubusercontent.com/u/72129520?v=4',\n",
       "  'gravatar_id': '',\n",
       "  'url': 'https://api.github.com/users/PaolaKarina',\n",
       "  'html_url': 'https://github.com/PaolaKarina',\n",
       "  'followers_url': 'https://api.github.com/users/PaolaKarina/followers',\n",
       "  'following_url': 'https://api.github.com/users/PaolaKarina/following{/other_user}',\n",
       "  'gists_url': 'https://api.github.com/users/PaolaKarina/gists{/gist_id}',\n",
       "  'starred_url': 'https://api.github.com/users/PaolaKarina/starred{/owner}{/repo}',\n",
       "  'subscriptions_url': 'https://api.github.com/users/PaolaKarina/subscriptions',\n",
       "  'organizations_url': 'https://api.github.com/users/PaolaKarina/orgs',\n",
       "  'repos_url': 'https://api.github.com/users/PaolaKarina/repos',\n",
       "  'events_url': 'https://api.github.com/users/PaolaKarina/events{/privacy}',\n",
       "  'received_events_url': 'https://api.github.com/users/PaolaKarina/received_events',\n",
       "  'type': 'User',\n",
       "  'site_admin': False},\n",
       " 'html_url': 'https://github.com/PaolaKarina/datamad1020-rev',\n",
       " 'description': None,\n",
       " 'fork': True,\n",
       " 'url': 'https://api.github.com/repos/PaolaKarina/datamad1020-rev',\n",
       " 'forks_url': 'https://api.github.com/repos/PaolaKarina/datamad1020-rev/forks',\n",
       " 'keys_url': 'https://api.github.com/repos/PaolaKarina/datamad1020-rev/keys{/key_id}',\n",
       " 'collaborators_url': 'https://api.github.com/repos/PaolaKarina/datamad1020-rev/collaborators{/collaborator}',\n",
       " 'teams_url': 'https://api.github.com/repos/PaolaKarina/datamad1020-rev/teams',\n",
       " 'hooks_url': 'https://api.github.com/repos/PaolaKarina/datamad1020-rev/hooks',\n",
       " 'issue_events_url': 'https://api.github.com/repos/PaolaKarina/datamad1020-rev/issues/events{/number}',\n",
       " 'events_url': 'https://api.github.com/repos/PaolaKarina/datamad1020-rev/events',\n",
       " 'assignees_url': 'https://api.github.com/repos/PaolaKarina/datamad1020-rev/assignees{/user}',\n",
       " 'branches_url': 'https://api.github.com/repos/PaolaKarina/datamad1020-rev/branches{/branch}',\n",
       " 'tags_url': 'https://api.github.com/repos/PaolaKarina/datamad1020-rev/tags',\n",
       " 'blobs_url': 'https://api.github.com/repos/PaolaKarina/datamad1020-rev/git/blobs{/sha}',\n",
       " 'git_tags_url': 'https://api.github.com/repos/PaolaKarina/datamad1020-rev/git/tags{/sha}',\n",
       " 'git_refs_url': 'https://api.github.com/repos/PaolaKarina/datamad1020-rev/git/refs{/sha}',\n",
       " 'trees_url': 'https://api.github.com/repos/PaolaKarina/datamad1020-rev/git/trees{/sha}',\n",
       " 'statuses_url': 'https://api.github.com/repos/PaolaKarina/datamad1020-rev/statuses/{sha}',\n",
       " 'languages_url': 'https://api.github.com/repos/PaolaKarina/datamad1020-rev/languages',\n",
       " 'stargazers_url': 'https://api.github.com/repos/PaolaKarina/datamad1020-rev/stargazers',\n",
       " 'contributors_url': 'https://api.github.com/repos/PaolaKarina/datamad1020-rev/contributors',\n",
       " 'subscribers_url': 'https://api.github.com/repos/PaolaKarina/datamad1020-rev/subscribers',\n",
       " 'subscription_url': 'https://api.github.com/repos/PaolaKarina/datamad1020-rev/subscription',\n",
       " 'commits_url': 'https://api.github.com/repos/PaolaKarina/datamad1020-rev/commits{/sha}',\n",
       " 'git_commits_url': 'https://api.github.com/repos/PaolaKarina/datamad1020-rev/git/commits{/sha}',\n",
       " 'comments_url': 'https://api.github.com/repos/PaolaKarina/datamad1020-rev/comments{/number}',\n",
       " 'issue_comment_url': 'https://api.github.com/repos/PaolaKarina/datamad1020-rev/issues/comments{/number}',\n",
       " 'contents_url': 'https://api.github.com/repos/PaolaKarina/datamad1020-rev/contents/{+path}',\n",
       " 'compare_url': 'https://api.github.com/repos/PaolaKarina/datamad1020-rev/compare/{base}...{head}',\n",
       " 'merges_url': 'https://api.github.com/repos/PaolaKarina/datamad1020-rev/merges',\n",
       " 'archive_url': 'https://api.github.com/repos/PaolaKarina/datamad1020-rev/{archive_format}{/ref}',\n",
       " 'downloads_url': 'https://api.github.com/repos/PaolaKarina/datamad1020-rev/downloads',\n",
       " 'issues_url': 'https://api.github.com/repos/PaolaKarina/datamad1020-rev/issues{/number}',\n",
       " 'pulls_url': 'https://api.github.com/repos/PaolaKarina/datamad1020-rev/pulls{/number}',\n",
       " 'milestones_url': 'https://api.github.com/repos/PaolaKarina/datamad1020-rev/milestones{/number}',\n",
       " 'notifications_url': 'https://api.github.com/repos/PaolaKarina/datamad1020-rev/notifications{?since,all,participating}',\n",
       " 'labels_url': 'https://api.github.com/repos/PaolaKarina/datamad1020-rev/labels{/name}',\n",
       " 'releases_url': 'https://api.github.com/repos/PaolaKarina/datamad1020-rev/releases{/id}',\n",
       " 'deployments_url': 'https://api.github.com/repos/PaolaKarina/datamad1020-rev/deployments',\n",
       " 'created_at': '2021-01-26T17:54:51Z',\n",
       " 'updated_at': '2021-01-26T17:54:53Z',\n",
       " 'pushed_at': '2021-01-26T13:00:17Z',\n",
       " 'git_url': 'git://github.com/PaolaKarina/datamad1020-rev.git',\n",
       " 'ssh_url': 'git@github.com:PaolaKarina/datamad1020-rev.git',\n",
       " 'clone_url': 'https://github.com/PaolaKarina/datamad1020-rev.git',\n",
       " 'svn_url': 'https://github.com/PaolaKarina/datamad1020-rev',\n",
       " 'homepage': None,\n",
       " 'size': 164263,\n",
       " 'stargazers_count': 0,\n",
       " 'watchers_count': 0,\n",
       " 'language': None,\n",
       " 'has_issues': False,\n",
       " 'has_projects': True,\n",
       " 'has_downloads': True,\n",
       " 'has_wiki': True,\n",
       " 'has_pages': False,\n",
       " 'forks_count': 0,\n",
       " 'mirror_url': None,\n",
       " 'archived': False,\n",
       " 'disabled': False,\n",
       " 'open_issues_count': 0,\n",
       " 'license': {'key': 'agpl-3.0',\n",
       "  'name': 'GNU Affero General Public License v3.0',\n",
       "  'spdx_id': 'AGPL-3.0',\n",
       "  'url': 'https://api.github.com/licenses/agpl-3.0',\n",
       "  'node_id': 'MDc6TGljZW5zZTE='},\n",
       " 'forks': 0,\n",
       " 'open_issues': 0,\n",
       " 'watchers': 0,\n",
       " 'default_branch': 'master'}"
      ]
     },
     "execution_count": 29,
     "metadata": {},
     "output_type": "execute_result"
    }
   ],
   "source": [
    "res[0]"
   ]
  },
  {
   "cell_type": "code",
   "execution_count": null,
   "metadata": {
    "scrolled": false
   },
   "outputs": [],
   "source": []
  },
  {
   "cell_type": "code",
   "execution_count": 61,
   "metadata": {},
   "outputs": [
    {
     "name": "stdout",
     "output_type": "stream",
     "text": [
      "['https://api.github.com/repos/PaolaKarina/datamad1020-rev']\n",
      "['https://api.github.com/repos/VictorRodriguezIronhack/datamad1020-rev']\n",
      "['https://api.github.com/repos/sonia-quintanar/datamad1020-rev']\n",
      "['https://api.github.com/repos/jperezllorente/datamad1020-rev']\n",
      "['https://api.github.com/repos/AnaMA96/datamad1020-rev']\n",
      "['https://api.github.com/repos/breogann/datamad1020-rev']\n",
      "['https://api.github.com/repos/rafadedubra/datamad1020-rev']\n",
      "['https://api.github.com/repos/Nuria-Pe/datamad1020-rev']\n",
      "['https://api.github.com/repos/SergioCaler0/datamad1020-rev']\n",
      "['https://api.github.com/repos/LucianaLescano/datamad1020-rev']\n",
      "['https://api.github.com/repos/Mario-Sainz/datamad1020-rev']\n",
      "['https://api.github.com/repos/juanmarin00/datamad1020-rev']\n",
      "['https://api.github.com/repos/JoseManuel-G/datamad1020-rev']\n",
      "['https://api.github.com/repos/jesus-perez-366/datamad1020-rev']\n",
      "['https://api.github.com/repos/sgonzalainen/datamad1020-rev']\n",
      "['https://api.github.com/repos/Pptrv/datamad1020-rev']\n",
      "['https://api.github.com/repos/Marxess/datamad1020-rev']\n",
      "['https://api.github.com/repos/patri-carrasco/datamad1020-rev']\n",
      "['https://api.github.com/repos/BlueJotas/datamad1020-rev']\n",
      "['https://api.github.com/repos/jvazquezgalvezlp/datamad1020-rev']\n",
      "['https://api.github.com/repos/leticia-sobrino/datamad1020-rev']\n",
      "['https://api.github.com/repos/JaimeCalcedo/datamad1020-rev']\n"
     ]
    }
   ],
   "source": [
    "for fork in res: \n",
    "    urls=[]\n",
    "    language_urls=[]\n",
    "    for k,v in fork.items():\n",
    "        if k =='url':\n",
    "            urls.append(v)\n",
    "            print(urls)"
   ]
  },
  {
   "cell_type": "code",
   "execution_count": 66,
   "metadata": {},
   "outputs": [
    {
     "data": {
      "text/plain": [
       "['https://api.github.com/repos/JaimeCalcedo/datamad1020-rev']"
      ]
     },
     "execution_count": 66,
     "metadata": {},
     "output_type": "execute_result"
    }
   ],
   "source": [
    "urls"
   ]
  },
  {
   "cell_type": "code",
   "execution_count": 68,
   "metadata": {},
   "outputs": [
    {
     "name": "stdout",
     "output_type": "stream",
     "text": [
      "[None]\n",
      "[None]\n",
      "['Jupyter Notebook']\n",
      "['Jupyter Notebook']\n",
      "['Jupyter Notebook']\n",
      "['Jupyter Notebook']\n",
      "['Jupyter Notebook']\n",
      "['Jupyter Notebook']\n",
      "['Jupyter Notebook']\n",
      "['Jupyter Notebook']\n",
      "['Jupyter Notebook']\n",
      "['Jupyter Notebook']\n",
      "['Jupyter Notebook']\n",
      "['Jupyter Notebook']\n",
      "['Jupyter Notebook']\n",
      "['Jupyter Notebook']\n",
      "['Jupyter Notebook']\n",
      "['Jupyter Notebook']\n",
      "['Jupyter Notebook']\n",
      "['Jupyter Notebook']\n",
      "['Jupyter Notebook']\n",
      "['Jupyter Notebook']\n"
     ]
    }
   ],
   "source": [
    "for frk in res: \n",
    "    language=[]\n",
    "    for key,value in frk.items():\n",
    "        if key =='language':\n",
    "            language.append(value)\n",
    "            print(language)"
   ]
  },
  {
   "cell_type": "markdown",
   "metadata": {},
   "source": [
    "## Challenge 2: Count Commits\n",
    "\n",
    "Count how many commits were made in the past week.\n",
    "\n",
    "Obtain all the commits made in the past week via API, which is a JSON array that contains multiple commit objects.\n",
    "\n",
    "Count how many commit objects are contained in the array.\n",
    "\n"
   ]
  },
  {
   "cell_type": "markdown",
   "metadata": {},
   "source": [
    "⚠️ **Remember to limit your output before submission**."
   ]
  },
  {
   "cell_type": "code",
   "execution_count": null,
   "metadata": {},
   "outputs": [],
   "source": [
    "#Your code"
   ]
  },
  {
   "cell_type": "code",
   "execution_count": null,
   "metadata": {},
   "outputs": [],
   "source": [
    "# Example: print(variable[:10]) "
   ]
  },
  {
   "cell_type": "markdown",
   "metadata": {},
   "source": [
    "## Challenge 3: Hidden Cold Joke\n",
    "\n",
    "Using Python, call Github API to find out the cold joke contained in the 24 secret files in the following repo:\n",
    "\n",
    "https://github.com/ironhack-datalabs/scavenger\n",
    "\n",
    "The filenames of the secret files contain .scavengerhunt and they are scattered in different directories of this repo. The secret files are named from .0001.scavengerhunt to .0024.scavengerhunt. They are scattered randomly throughout this repo. You need to search for these files by calling the Github API, not searching the local files on your computer.\n",
    "\n",
    "\n",
    "After you find out the secrete files:\n",
    "\n",
    "Sort the filenames ascendingly.\n",
    "\n",
    "Read the content of each secret files into an array of strings.\n",
    "\n",
    "Concatenate the strings in the array separating each two with a whitespace.\n",
    "\n",
    "Print out the joke.\n"
   ]
  },
  {
   "cell_type": "markdown",
   "metadata": {},
   "source": [
    "⚠️ **Remember to limit your output before submission**."
   ]
  },
  {
   "cell_type": "code",
   "execution_count": null,
   "metadata": {},
   "outputs": [],
   "source": [
    "# Your code"
   ]
  },
  {
   "cell_type": "code",
   "execution_count": null,
   "metadata": {},
   "outputs": [],
   "source": [
    "# Example: print(variable[:10]) "
   ]
  }
 ],
 "metadata": {
  "kernelspec": {
   "display_name": "Python 3",
   "language": "python",
   "name": "python3"
  },
  "language_info": {
   "codemirror_mode": {
    "name": "ipython",
    "version": 3
   },
   "file_extension": ".py",
   "mimetype": "text/x-python",
   "name": "python",
   "nbconvert_exporter": "python",
   "pygments_lexer": "ipython3",
   "version": "3.8.5"
  }
 },
 "nbformat": 4,
 "nbformat_minor": 2
}
